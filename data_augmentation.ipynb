{
  "nbformat": 4,
  "nbformat_minor": 0,
  "metadata": {
    "colab": {
      "name": "data_augmentation.ipynb",
      "provenance": [],
      "collapsed_sections": []
    },
    "kernelspec": {
      "name": "python3",
      "display_name": "Python 3"
    },
    "language_info": {
      "name": "python"
    }
  },
  "cells": [
    {
      "cell_type": "code",
      "execution_count": null,
      "metadata": {
        "id": "dH2k355R73Ek"
      },
      "outputs": [],
      "source": [
        "import numpy as np\n",
        "import matplotlib.pyplot as plt\n",
        "import os\n",
        "import cv2\n",
        "\n",
        "DATADIR = \"drive/MyDrive/Chess_Piece_Images\"\n",
        "CATEGORIES = [ \"Black_Bishop\" , \"White_Bishop\" , \"Black_Knight\" , \"White_Knight\" , \"Black_Rook\" , \"White_Rook\" , \n",
        "              \"Black_King\" , \"White_King\"  , \"Black_Queen\" , \"White_Queen\" , \"Black_Pawn\" , \"White_Pawn\"]\n",
        "\n",
        "for category in CATEGORIES : \n",
        "    path = os.path.join(DATADIR,category)\n",
        "    for img in os.listdir(path) :\n",
        "        img_array = cv2.imread(os.path.join(path,img) )  # cv2.IMREAD_GRAYSCALE\n",
        "        plt.imshow(img_array)\n",
        "        break\n",
        "    break"
      ]
    },
    {
      "cell_type": "code",
      "source": [
        "IMG_SIZE = 200\n",
        "\n",
        "new_array = cv2.resize(img_array , (IMG_SIZE , IMG_SIZE))\n",
        "gray  = gray = cv2.cvtColor(new_array, cv2.COLOR_BGR2GRAY)\n",
        "\n",
        "plt.imshow(gray , cmap=\"gray\")\n",
        "plt.show()"
      ],
      "metadata": {
        "id": "wgn7Sa2h77g6"
      },
      "execution_count": null,
      "outputs": []
    },
    {
      "cell_type": "code",
      "source": [
        "training_data = []\n",
        "\n",
        "def create_training_data() :\n",
        "    for category in CATEGORIES : \n",
        "        path = os.path.join(DATADIR,category)\n",
        "    \n",
        "        class_num = CATEGORIES.index(category)\n",
        "    \n",
        "        for img in os.listdir(path) :\n",
        "            \n",
        "            \n",
        "            img_array = cv2.imread(os.path.join(path,img) , cv2.IMREAD_GRAYSCALE) # cv2.IMREAD_GRAYSCALE\n",
        "                \n",
        "            new_array = cv2.resize(img_array , (IMG_SIZE , IMG_SIZE))\n",
        "                #training_data.append([new_array, class_num])\n",
        "                \n",
        "            #gray = cv2.cvtColor(new_array)\n",
        "            training_data.append([new_array  , class_num])\n",
        "            \n",
        "            \n",
        "        \n",
        "create_training_data()"
      ],
      "metadata": {
        "id": "49bheKo377ji"
      },
      "execution_count": null,
      "outputs": []
    },
    {
      "cell_type": "code",
      "source": [
        "new_image = cv2.cvtColor(training_data[0][0] , cv2.COLOR_BGR2RGB)\n",
        "plt.imshow(new_image)"
      ],
      "metadata": {
        "id": "6Uu3cWK077mL"
      },
      "execution_count": null,
      "outputs": []
    },
    {
      "cell_type": "code",
      "source": [
        "# Code to plot a random piece with its label \n",
        "\n",
        "import random\n",
        "\n",
        "index = random.randint(0,120)\n",
        "img_arr = training_data[index][0]\n",
        "\n",
        "\n",
        "\n",
        "y = training_data[index][1]\n",
        "\n",
        "plt.imshow(img_arr , cmap=\"gray\")\n",
        "plt.title(CATEGORIES[y])"
      ],
      "metadata": {
        "id": "fX1PzbET77rf"
      },
      "execution_count": null,
      "outputs": []
    },
    {
      "cell_type": "code",
      "source": [
        "CATEGORIES = [ \"Black_Bishop\" , \"White_Bishop\" , \"Black_Knight\" , \"White_Knight\" , \"Black_Rook\" , \"White_Rook\" , \n",
        "              \"Black_King\" , \"White_King\"  , \"Black_Queen\" , \"White_Queen\" , \"Black_Pawn\" , \"White_Pawn\"]"
      ],
      "metadata": {
        "id": "-kTVMb3R77uL"
      },
      "execution_count": null,
      "outputs": []
    },
    {
      "cell_type": "code",
      "source": [
        "# Code to augment data images\n",
        "# The below code has been from Krish Naik's video on Data Augmentation and later improved to fit \n",
        "# into our situation\n",
        "\n",
        "from keras.preprocessing.image import ImageDataGenerator , array_to_img , img_to_array,load_img\n",
        "\n",
        "datagen = ImageDataGenerator(\n",
        "    rotation_range = 40,\n",
        "    width_shift_range = 0.2,\n",
        "    height_shift_range = 0.2,\n",
        "    shear_range = 0.2,\n",
        "    zoom_range = 0.2,\n",
        "    horizontal_flip = True,\n",
        "    fill_mode = 'nearest'\n",
        ")\n",
        "\n",
        "def augment_images() :\n",
        "    for category in CATEGORIES : \n",
        "        path = os.path.join(DATADIR,category)    \n",
        "        class_num = CATEGORIES.index(category)      \n",
        "\n",
        "        for img in os.listdir(path) :         \n",
        "            image_array = cv2.resize(cv2.imread(os.path.join(path,img)) , (IMG_SIZE , IMG_SIZE))\n",
        "            new_array = cv2.cvtColor(image_array, cv2.COLOR_BGR2RGB)\n",
        "            \n",
        "            #img = load_img(os.path.join(path,img))\n",
        "            X = new_array\n",
        "            X = X.reshape((1,) + X.shape)\n",
        "\n",
        "            i=0\n",
        "\n",
        "            for batch in datagen.flow(X , batch_size = 1,\n",
        "                          save_prefix = category,\n",
        "                          save_format = 'jpeg',\n",
        "                          save_to_dir ='sample_data/augmented_data/' + category) :\n",
        "                          i +=1\n",
        "\n",
        "                          if i>5:\n",
        "                            break\n",
        "\n",
        "augment_images()          \n",
        "            "
      ],
      "metadata": {
        "id": "GLzhjg0077w7"
      },
      "execution_count": null,
      "outputs": []
    },
    {
      "cell_type": "code",
      "source": [
        "# Method to download a folder in Google Colab\n",
        "\n",
        "# Convert the folder to a zip file first\n",
        "\n",
        "!zip -r /content/sample_data/augmented_data.zip /content/sample_data/augmented_data"
      ],
      "metadata": {
        "id": "jvmuKpbnBosb"
      },
      "execution_count": null,
      "outputs": []
    },
    {
      "cell_type": "code",
      "source": [
        ""
      ],
      "metadata": {
        "id": "kYGxQpv277zr"
      },
      "execution_count": null,
      "outputs": []
    },
    {
      "cell_type": "code",
      "source": [
        ""
      ],
      "metadata": {
        "id": "sQM701Rj772e"
      },
      "execution_count": null,
      "outputs": []
    },
    {
      "cell_type": "code",
      "source": [
        ""
      ],
      "metadata": {
        "id": "-UJc0EVE774y"
      },
      "execution_count": null,
      "outputs": []
    },
    {
      "cell_type": "code",
      "source": [
        ""
      ],
      "metadata": {
        "id": "r_l6L9hGF-ET"
      },
      "execution_count": null,
      "outputs": []
    },
    {
      "cell_type": "code",
      "source": [
        ""
      ],
      "metadata": {
        "id": "5pB-BAx2777U"
      },
      "execution_count": null,
      "outputs": []
    },
    {
      "cell_type": "code",
      "source": [
        ""
      ],
      "metadata": {
        "id": "EvyAi_JlGbaG"
      },
      "execution_count": null,
      "outputs": []
    },
    {
      "cell_type": "code",
      "source": [
        ""
      ],
      "metadata": {
        "id": "18EMWTjCGbc3"
      },
      "execution_count": null,
      "outputs": []
    },
    {
      "cell_type": "code",
      "source": [
        ""
      ],
      "metadata": {
        "id": "isDhip60Gbfi"
      },
      "execution_count": null,
      "outputs": []
    },
    {
      "cell_type": "code",
      "source": [
        ""
      ],
      "metadata": {
        "id": "O1otwFCVGbh9"
      },
      "execution_count": null,
      "outputs": []
    },
    {
      "cell_type": "code",
      "source": [
        ""
      ],
      "metadata": {
        "id": "ytwT6Rsr73s3"
      },
      "execution_count": null,
      "outputs": []
    },
    {
      "cell_type": "code",
      "source": [
        ""
      ],
      "metadata": {
        "id": "PJVFk5rV73vS"
      },
      "execution_count": null,
      "outputs": []
    },
    {
      "cell_type": "code",
      "source": [
        ""
      ],
      "metadata": {
        "id": "WO6dXsCJ73xy"
      },
      "execution_count": null,
      "outputs": []
    },
    {
      "cell_type": "code",
      "source": [
        ""
      ],
      "metadata": {
        "id": "AxTbd1kL730S"
      },
      "execution_count": null,
      "outputs": []
    },
    {
      "cell_type": "code",
      "source": [
        ""
      ],
      "metadata": {
        "id": "-a9WdXDv732q"
      },
      "execution_count": null,
      "outputs": []
    }
  ]
}